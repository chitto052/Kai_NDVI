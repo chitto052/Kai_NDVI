{
 "cells": [
  {
   "cell_type": "code",
   "execution_count": 3,
   "metadata": {},
   "outputs": [
    {
     "data": {
      "text/html": [
       "<p>To authorize access needed by Earth Engine, open the following\n",
       "        URL in a web browser and follow the instructions:</p>\n",
       "        <p><a href=https://code.earthengine.google.com/client-auth?scopes=https%3A//www.googleapis.com/auth/earthengine%20https%3A//www.googleapis.com/auth/devstorage.full_control&request_id=OunGojVBDAqpncSnumQabf9_gnT_7yr-Bu5PC235JHc&tc=movhpW2wMyVDhKwt-V8Yv0IlXWpnRe4kb1VL4I0F0Gc&cc=UcZLE_AA7AjrLmWS2PeCK2YU-VvDR664gNZd2ZYwVZQ>https://code.earthengine.google.com/client-auth?scopes=https%3A//www.googleapis.com/auth/earthengine%20https%3A//www.googleapis.com/auth/devstorage.full_control&request_id=OunGojVBDAqpncSnumQabf9_gnT_7yr-Bu5PC235JHc&tc=movhpW2wMyVDhKwt-V8Yv0IlXWpnRe4kb1VL4I0F0Gc&cc=UcZLE_AA7AjrLmWS2PeCK2YU-VvDR664gNZd2ZYwVZQ</a></p>\n",
       "        <p>The authorization workflow will generate a code, which you should paste in the box below.</p>\n",
       "        "
      ],
      "text/plain": [
       "<IPython.core.display.HTML object>"
      ]
     },
     "metadata": {},
     "output_type": "display_data"
    },
    {
     "name": "stdout",
     "output_type": "stream",
     "text": [
      "\n",
      "Successfully saved authorization token.\n"
     ]
    }
   ],
   "source": [
    "import ee\n",
    "\n",
    "ee.Authenticate()\n",
    "ee.Initialize()"
   ]
  },
  {
   "cell_type": "code",
   "execution_count": 28,
   "metadata": {},
   "outputs": [
    {
     "name": "stdout",
     "output_type": "stream",
     "text": [
      "['2021-06-01', '2021-06-06', '2021-06-13', '2021-06-23', '2021-06-26', '2021-06-28', '2021-07-18', '2021-07-23', '2021-07-26', '2021-07-28']\n"
     ]
    }
   ],
   "source": [
    "# 撮影日リストの取得関数\n",
    "def get_shootingdate_list(imagecollection):\n",
    "    shootingdate_list = (\n",
    "        ee.List(imagecollection.aggregate_array('system:time_start'))\n",
    "        .map(lambda d : ee.Date(d).format('YYYY-MM-dd'))\n",
    "        .distinct()\n",
    "    )\n",
    "    return shootingdate_list.getInfo()\n",
    "\n",
    "    # NDVI画像取得関数\n",
    "def get_ndvi_image(ImageCollection,shootingdate):\n",
    "    ndvi_image = (\n",
    "        ImageCollection\n",
    "        .filterDate(\n",
    "            ee.Date(shootingdate),\n",
    "            ee.Date(shootingdate).advance(1,'day')\n",
    "        )\n",
    "        .select(['B8','B4'])\n",
    "        .mean()\n",
    "        .normalizedDifference(['B8','B4'])\n",
    "        .rename('ndvi')\n",
    "        .clip(ee.Geometry.Polygon(coords))\n",
    "    )\n",
    "    return ndvi_image\n",
    "\n",
    "base = [43.75054584331872, 143.67532544734632]\n",
    "coords_range = 0.001\n",
    "\n",
    "coords = [[\n",
    "    [base[1] + coords_range, base[0] + coords_range],\n",
    "    [base[1] - coords_range, base[0] + coords_range],\n",
    "    [base[1] - coords_range, base[0] - coords_range],\n",
    "    [base[1] + coords_range, base[0] - coords_range],\n",
    "    [base[1] + coords_range, base[0] + coords_range],\n",
    "]]\n",
    "\n",
    "# 対象期間（開始）\n",
    "START_DATE ='2021-06-01'\n",
    "# 対象期間（終了）\n",
    "END_DATE = '2021-07-30'\n",
    "# 雲被覆率フィルタリングの上限値\n",
    "CLOUD_COVER_RATE = 20\n",
    "\n",
    "# ImageCollectionの絞り込み\n",
    "imgcol = (\n",
    "    ee.ImageCollection('COPERNICUS/S2_SR_HARMONIZED')\n",
    "    .filterBounds(ee.Geometry.Polygon(coords))\n",
    "    .filterDate(ee.Date(START_DATE), ee.Date(END_DATE))\n",
    "    .filter(ee.Filter.lte('CLOUDY_PIXEL_PERCENTAGE',CLOUD_COVER_RATE))\n",
    ")\n",
    "\n",
    "# 撮影日リストの取得\n",
    "shootingdate_list = get_shootingdate_list(imgcol)\n",
    "print(shootingdate_list)\n",
    "\n",
    "# 緯度・経度情報に基づき解析するためCRSはEPSG:4326を指定しておく\n",
    "for shootingdate in shootingdate_list:\n",
    "    task = ee.batch.Export.image.toDrive(\n",
    "        image = get_ndvi_image(imgcol,shootingdate),\n",
    "        description = 'NDVI_'+shootingdate,\n",
    "        scale = 10,\n",
    "        folder = 'ExportGEEimage',\n",
    "        crs = 'EPSG:4326'\n",
    "    )\n",
    "    task.start()"
   ]
  },
  {
   "cell_type": "code",
   "execution_count": 32,
   "metadata": {},
   "outputs": [
    {
     "name": "stdout",
     "output_type": "stream",
     "text": [
      "['COPERNICUS/S2_SR_HARMONIZED/20210701T012659_20210701T012656_T54TYP', 'COPERNICUS/S2_SR_HARMONIZED/20210718T011659_20210718T011654_T54TYP', 'COPERNICUS/S2_SR_HARMONIZED/20210721T012659_20210721T012657_T54TYP', 'COPERNICUS/S2_SR_HARMONIZED/20210723T011701_20210723T011656_T54TYP', 'COPERNICUS/S2_SR_HARMONIZED/20210726T012701_20210726T012658_T54TYP', 'COPERNICUS/S2_SR_HARMONIZED/20210728T011659_20210728T011654_T54TYP']\n",
      "0\n",
      "1\n",
      "2\n",
      "3\n",
      "4\n",
      "5\n"
     ]
    }
   ],
   "source": [
    "# 画像取得したいポリゴン座標\n",
    "base = [43.75054584331872, 143.67532544734632]\n",
    "coords_range = 0.01\n",
    "\n",
    "coords = [[\n",
    "    [base[1] + coords_range, base[0] + coords_range],\n",
    "    [base[1] - coords_range, base[0] + coords_range],\n",
    "    [base[1] - coords_range, base[0] - coords_range],\n",
    "    [base[1] + coords_range, base[0] - coords_range],\n",
    "    [base[1] + coords_range, base[0] + coords_range],\n",
    "]]\n",
    "\n",
    "# 対象期間（開始）\n",
    "START_DATE ='2021-07-01'\n",
    "# 対象期間（終了）\n",
    "END_DATE = '2021-7-30'\n",
    "# 雲被覆率フィルタリングの上限値\n",
    "CLOUD_COVER_RATE = 30\n",
    "\n",
    "# ImageCollectionの絞り込み\n",
    "imgcol = (\n",
    "    ee.ImageCollection('COPERNICUS/S2_SR_HARMONIZED')\n",
    "    .filterBounds(ee.Geometry.Polygon(coords))\n",
    "    .filterDate(ee.Date(START_DATE), ee.Date(END_DATE))\n",
    "    .filter(ee.Filter.lte('CLOUDY_PIXEL_PERCENTAGE',CLOUD_COVER_RATE))\n",
    ")\n",
    "\n",
    "# ImageCollectionに格納されているImageIDのリスト化と確認\n",
    "asset_id_list = imgcol.aggregate_array('system:id').getInfo()\n",
    "print(asset_id_list)\n",
    "\n",
    "# 画像をGoogleDrive内に出力\n",
    "for i,asset_id in enumerate(asset_id_list):\n",
    "    print(i)\n",
    "    task = ee.batch.Export.image.toDrive(\n",
    "        image = ee.Image(asset_id_list[i]).select(['TCI_R','TCI_G','TCI_B']),\n",
    "        region = ee.Geometry.Polygon(coords),\n",
    "        description = 'Sample'+str(i),\n",
    "    )\n",
    "    task.start()"
   ]
  }
 ],
 "metadata": {
  "kernelspec": {
   "display_name": "Python 3",
   "language": "python",
   "name": "python3"
  },
  "language_info": {
   "codemirror_mode": {
    "name": "ipython",
    "version": 3
   },
   "file_extension": ".py",
   "mimetype": "text/x-python",
   "name": "python",
   "nbconvert_exporter": "python",
   "pygments_lexer": "ipython3",
   "version": "3.11.3"
  },
  "orig_nbformat": 4
 },
 "nbformat": 4,
 "nbformat_minor": 2
}
